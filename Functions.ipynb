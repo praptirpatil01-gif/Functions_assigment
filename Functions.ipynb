{
  "nbformat": 4,
  "nbformat_minor": 0,
  "metadata": {
    "colab": {
      "provenance": []
    },
    "kernelspec": {
      "name": "python3",
      "display_name": "Python 3"
    },
    "language_info": {
      "name": "python"
    }
  },
  "cells": [
    {
      "cell_type": "markdown",
      "source": [
        "Q1. What is the difference between a function and a method in Python?\n",
        "\n",
        "Ans:-\n",
        "**Function**\n",
        "\n",
        "A function in Python is a block of code that performs a specific task and is defined using the def keyword. It is independent, meaning it does not belong to any object or class, and can be called directly by its name. Functions are useful for reusing code and organizing programs.\n",
        "\n",
        " For example:"
      ],
      "metadata": {
        "id": "-3-L9Ypv6auo"
      }
    },
    {
      "cell_type": "code",
      "source": [
        "def add(a, b):\n",
        "    return a + b\n",
        "print(add(2, 3))"
      ],
      "metadata": {
        "colab": {
          "base_uri": "https://localhost:8080/"
        },
        "id": "GBZZKVCD7t4v",
        "outputId": "5991c1bc-0047-4f26-a1d2-8ed46903cee4"
      },
      "execution_count": null,
      "outputs": [
        {
          "output_type": "stream",
          "name": "stdout",
          "text": [
            "5\n"
          ]
        }
      ]
    },
    {
      "cell_type": "markdown",
      "source": [
        "**Method**\n",
        "\n",
        "A method, on the other hand, is a function that is associated with an object or a class. It is used to perform operations on the data stored in that object. Methods are called using the dot (.) operator and depend on the object they belong to.\n",
        "\n",
        "For example:"
      ],
      "metadata": {
        "id": "KlE8t6PL7-U5"
      }
    },
    {
      "cell_type": "code",
      "source": [
        "text = \"hello\"\n",
        "print(text.upper())"
      ],
      "metadata": {
        "colab": {
          "base_uri": "https://localhost:8080/"
        },
        "id": "0izztP358kFF",
        "outputId": "845e4b3f-2ce2-4660-814a-b457bbb24dbb"
      },
      "execution_count": null,
      "outputs": [
        {
          "output_type": "stream",
          "name": "stdout",
          "text": [
            "HELLO\n"
          ]
        }
      ]
    },
    {
      "cell_type": "markdown",
      "source": [
        "---\n",
        "\n",
        "Q2. Explain the concept of function arguments and parameters in Python.\n",
        "\n",
        "Ans:-\n",
        "\n",
        "**function arguments**\n",
        "\n",
        " arguments are the actual values that are passed to a function when it is called. These values replace the parameters during the execution of the function. Arguments provide the real data for the function to work with.\n",
        "\n",
        " **Parameter**\n",
        "\n",
        "Parameters are the variables that are written inside the parentheses when defining a function. They act as placeholders for the values that will be passed into the function. Parameters allow a function to accept input and perform operations based on that input.\n",
        "\n",
        " For example:"
      ],
      "metadata": {
        "id": "qPZt1g3i8rS8"
      }
    },
    {
      "cell_type": "code",
      "source": [
        "def greet(name):        # 'name' is a parameter\n",
        "    print(\"Hello\", name)\n",
        "\n",
        "greet(\"Prapti\")         # \"Prapti\" is an argument"
      ],
      "metadata": {
        "colab": {
          "base_uri": "https://localhost:8080/"
        },
        "id": "KWy627C3COKg",
        "outputId": "0078f151-37fb-4260-a6ef-5a51e1810c6b"
      },
      "execution_count": null,
      "outputs": [
        {
          "output_type": "stream",
          "name": "stdout",
          "text": [
            "Hello Prapti\n"
          ]
        }
      ]
    },
    {
      "cell_type": "markdown",
      "source": [
        "---\n",
        "\n",
        "Q3. What are the different ways to define and call a function in Python?\n",
        "\n",
        "Ans:-Different Ways to Define and Call a Function in Python.\n",
        "\n",
        "Functions in Python can be defined using def or lambda and are called by writing the function name followed by parentheses () with or without arguments.\n",
        "\n",
        "**Normal Function(User-defined Function):**\n",
        "\n",
        "A normal function is defined using the def keyword and called by its name.\n",
        "\n",
        "Example:"
      ],
      "metadata": {
        "id": "J_TTz8vSC35v"
      }
    },
    {
      "cell_type": "code",
      "source": [
        "def greet():\n",
        "    print(\"Hello\")\n",
        "greet()"
      ],
      "metadata": {
        "colab": {
          "base_uri": "https://localhost:8080/"
        },
        "id": "rZrAR-TuEXyn",
        "outputId": "b46adc38-27a8-4746-eab4-df93efcf3e91"
      },
      "execution_count": null,
      "outputs": [
        {
          "output_type": "stream",
          "name": "stdout",
          "text": [
            "Hello\n"
          ]
        }
      ]
    },
    {
      "cell_type": "markdown",
      "source": [
        "**Function with Parameters:**\n",
        "\n",
        " Functions can accept input values called parameters. When calling the function, these are replaced by arguments.\n",
        "\n",
        "Example:"
      ],
      "metadata": {
        "id": "GoIWmJFxEgI4"
      }
    },
    {
      "cell_type": "code",
      "source": [
        "def add(a, b):\n",
        "    print(a + b)\n",
        "add(3, 5)"
      ],
      "metadata": {
        "colab": {
          "base_uri": "https://localhost:8080/"
        },
        "id": "CqpCxy7gFKY4",
        "outputId": "9159acd5-dafd-4f66-d990-ebeb2c9af06e"
      },
      "execution_count": null,
      "outputs": [
        {
          "output_type": "stream",
          "name": "stdout",
          "text": [
            "8\n"
          ]
        }
      ]
    },
    {
      "cell_type": "markdown",
      "source": [
        "**Function with Return Value:**\n",
        "\n",
        "Functions can return a value using the return keyword.\n",
        "\n",
        "Example:"
      ],
      "metadata": {
        "id": "sGsMsWkUFY5T"
      }
    },
    {
      "cell_type": "code",
      "source": [
        "def square(n):\n",
        "    return n * n\n",
        "print(square(4))"
      ],
      "metadata": {
        "colab": {
          "base_uri": "https://localhost:8080/"
        },
        "id": "P82vR8dkFnbq",
        "outputId": "7be2ad58-b6cb-4608-9d98-daec1b960fd6"
      },
      "execution_count": null,
      "outputs": [
        {
          "output_type": "stream",
          "name": "stdout",
          "text": [
            "16\n"
          ]
        }
      ]
    },
    {
      "cell_type": "markdown",
      "source": [
        "**Lambda Function (Anonymous Function):**\n",
        "\n",
        "A lambda function is a short, one-line function defined using lambda.\n",
        "\n",
        "Example:"
      ],
      "metadata": {
        "id": "WBAAvC8oFtDm"
      }
    },
    {
      "cell_type": "code",
      "source": [
        "cube = lambda x: x**3\n",
        "print(cube(2))"
      ],
      "metadata": {
        "colab": {
          "base_uri": "https://localhost:8080/"
        },
        "id": "5Mf6-nwDF9-d",
        "outputId": "a1aa4b4a-1af9-408b-d1ad-0969954e8853"
      },
      "execution_count": null,
      "outputs": [
        {
          "output_type": "stream",
          "name": "stdout",
          "text": [
            "8\n"
          ]
        }
      ]
    },
    {
      "cell_type": "markdown",
      "source": [
        "**Calling One Function Inside Another:**\n",
        "\n",
        "A function can call another function to reuse code.\n",
        "\n",
        "Example:"
      ],
      "metadata": {
        "id": "JXW23CToGDHT"
      }
    },
    {
      "cell_type": "code",
      "source": [
        "def greet():\n",
        "    print(\"Hello\")\n",
        "def welcome():\n",
        "    greet()\n",
        "    print(\"Welcome!\")\n",
        "welcome()"
      ],
      "metadata": {
        "colab": {
          "base_uri": "https://localhost:8080/"
        },
        "id": "yLmGMjtIGRwk",
        "outputId": "204b3704-e382-4ea3-f515-77ff34db7e78"
      },
      "execution_count": null,
      "outputs": [
        {
          "output_type": "stream",
          "name": "stdout",
          "text": [
            "Hello\n",
            "Welcome!\n"
          ]
        }
      ]
    },
    {
      "cell_type": "markdown",
      "source": [
        "---\n",
        "\n",
        "Q4. What is the purpose of the `return` statement in a Python function?\n",
        "\n",
        "Ans:-The return statement is used to send a value back from a function to the caller. It allows the function to produce output that can be stored in a variable or used in further operations.\n",
        "\n",
        "Example:"
      ],
      "metadata": {
        "id": "0hPDvENbGqZp"
      }
    },
    {
      "cell_type": "code",
      "source": [
        "def add(a, b):\n",
        "    return a + b\n",
        "result = add(3, 4)\n",
        "print(result)"
      ],
      "metadata": {
        "colab": {
          "base_uri": "https://localhost:8080/"
        },
        "id": "-qgHAVdyISg9",
        "outputId": "b212ef01-a6c5-4ad4-d204-452a800a6105"
      },
      "execution_count": null,
      "outputs": [
        {
          "output_type": "stream",
          "name": "stdout",
          "text": [
            "7\n"
          ]
        }
      ]
    },
    {
      "cell_type": "markdown",
      "source": [
        "---\n",
        "\n",
        "Q5. What are iterators in Python and how do they differ from iterables?\n",
        "\n",
        "Ans:- In Python, an iterable is an object that can return its elements one by one, such as lists, tuples, or strings. You can use a for loop to go through all elements of an iterable. An iterator, on the other hand, is an object that produces the next value of an iterable when the next() function is called. It also remembers its current position, so it continues from where it left off. Iterables have the __iter__() method, while iterators have both __iter__() and __next__() methods.\n",
        "\n",
        "For example:\n",
        "\n",
        "\n"
      ],
      "metadata": {
        "id": "-kr464HKIZEn"
      }
    },
    {
      "cell_type": "code",
      "source": [
        "my_list = [1, 2, 3]     # Iterable\n",
        "it = iter(my_list)      # Iterator\n",
        "print(next(it))\n",
        "print(next(it))"
      ],
      "metadata": {
        "colab": {
          "base_uri": "https://localhost:8080/"
        },
        "id": "xbkit4bNMyB9",
        "outputId": "b73eee3e-7666-4dfb-fca4-8faed9944db1"
      },
      "execution_count": null,
      "outputs": [
        {
          "output_type": "stream",
          "name": "stdout",
          "text": [
            "1\n",
            "2\n"
          ]
        }
      ]
    },
    {
      "cell_type": "markdown",
      "source": [
        "---\n",
        "\n",
        "Q6. Explain the concept of generators in Python and how they are defined.\n",
        "\n",
        "Ans:- Generators in Python are special functions that produce a sequence of values one at a time instead of returning all values at once. They are memory-efficient and used for handling large data.\n",
        "\n",
        "how they are defined.\n",
        "\n",
        "Generators are defined like normal functions, but instead of using the return statement, they use the yield keyword. Each time the generator function is called, it resumes execution from the point where it last stopped and yields the next value\n"
      ],
      "metadata": {
        "id": "_g0VtQq0M_Tq"
      }
    },
    {
      "cell_type": "code",
      "source": [
        "def my_generator():\n",
        "    for i in range(3):\n",
        "        yield i\n",
        "\n",
        "gen = my_generator()\n",
        "print(next(gen))\n",
        "print(next(gen))\n",
        "print(next(gen))"
      ],
      "metadata": {
        "colab": {
          "base_uri": "https://localhost:8080/"
        },
        "id": "Q1GUWhypPjRu",
        "outputId": "d5eacbbb-43b7-4a7c-9a8a-28d042344c8c"
      },
      "execution_count": null,
      "outputs": [
        {
          "output_type": "stream",
          "name": "stdout",
          "text": [
            "0\n",
            "1\n",
            "2\n"
          ]
        }
      ]
    },
    {
      "cell_type": "markdown",
      "source": [
        "---\n",
        "\n",
        "Q7. What are the advantages of using generators over regular functions?\n",
        "\n",
        "Ans:-\n",
        "Advantages of Generators over Regular Functions.\n",
        "\n",
        " * Memory Efficient:\n",
        "\n",
        "      Generators produce one item at a time using the yield keyword, so they don’t store all values in memory like regular functions.\n",
        "\n",
        " * Faster Execution:\n",
        "      \n",
        "      Since values are generated on demand, generators are faster for large data processing.\n",
        "\n",
        "* Lazy Evaluation:\n",
        "         \n",
        "  Generators compute values only when required, saving both time and system resources.\n",
        "\n",
        "* Easy to Implement:\n",
        "\n",
        "   They are easy to write and manage compared to creating iterator classes manually.\n",
        "\n",
        "Example"
      ],
      "metadata": {
        "id": "YHIjZVMLPtPm"
      }
    },
    {
      "cell_type": "code",
      "source": [
        "def gen_num():\n",
        "    for i in range(3):\n",
        "        yield i\n",
        "for num in gen_num():\n",
        "    print(num)"
      ],
      "metadata": {
        "colab": {
          "base_uri": "https://localhost:8080/"
        },
        "id": "QZJdxwhBRaE9",
        "outputId": "4af884f6-fa41-4b1f-f3f1-f8a041091e76"
      },
      "execution_count": null,
      "outputs": [
        {
          "output_type": "stream",
          "name": "stdout",
          "text": [
            "0\n",
            "1\n",
            "2\n"
          ]
        }
      ]
    },
    {
      "cell_type": "markdown",
      "source": [
        "---\n",
        "\n",
        "Q8. What is a lambda function in Python and when is it typically used?\n",
        "\n",
        "Ans:- A lambda function in Python is a small anonymous function defined using the lambda keyword. It can take multiple arguments but only has one expression, which is automatically returned. It is typically used for short, simple operations where defining a normal function is not needed, such as in map(), filter(), or reduce() functions.\n"
      ],
      "metadata": {
        "id": "A5ojdUzpR4Kt"
      }
    },
    {
      "cell_type": "code",
      "source": [
        "add = lambda a, b: a + b\n",
        "print(add(3, 5))"
      ],
      "metadata": {
        "colab": {
          "base_uri": "https://localhost:8080/"
        },
        "id": "6ne3J-jSS-W2",
        "outputId": "e3ced7cf-3fb7-461e-f95d-2a2414dd69d5"
      },
      "execution_count": null,
      "outputs": [
        {
          "output_type": "stream",
          "name": "stdout",
          "text": [
            "8\n"
          ]
        }
      ]
    },
    {
      "cell_type": "markdown",
      "source": [
        "---\n",
        "\n",
        "Q9. Explain the purpose and usage of the `map()` function in Python.\n",
        "\n",
        "Ans:- The map() function in Python is used to apply a given function to all items of an iterable (like a list, tuple, or set) and return a map object (which is an iterator). It is useful for performing operations on each item without using a loop."
      ],
      "metadata": {
        "id": "HVZ-O_7JT2iD"
      }
    },
    {
      "cell_type": "code",
      "source": [
        "def square(x):\n",
        "    return x * x\n",
        "\n",
        "numbers = [1, 2, 3, 4]\n",
        "squared_numbers = map(square, numbers)\n",
        "print(list(squared_numbers))"
      ],
      "metadata": {
        "colab": {
          "base_uri": "https://localhost:8080/"
        },
        "id": "yNresVMdUDDf",
        "outputId": "1f2eaf43-a555-4646-ab0e-c81fd8129e93"
      },
      "execution_count": null,
      "outputs": [
        {
          "output_type": "stream",
          "name": "stdout",
          "text": [
            "[1, 4, 9, 16]\n"
          ]
        }
      ]
    },
    {
      "cell_type": "markdown",
      "source": [
        "---\n",
        "\n",
        "Q10. What is the difference between `map()`, `reduce()`, and `filter()` functions in Python?\n",
        "\n",
        "Ans :-\n",
        " **map()**\n",
        "\n",
        "* Applies a given function to every item of an iterable.\n",
        "\n",
        "* Returns a map object (iterator).\n",
        "\n",
        "Example"
      ],
      "metadata": {
        "id": "eG0z8YcUURbK"
      }
    },
    {
      "cell_type": "code",
      "source": [
        "numbers = [1,2,3]\n",
        "squared = map(lambda x: x**2, numbers)\n",
        "print(list(squared))"
      ],
      "metadata": {
        "colab": {
          "base_uri": "https://localhost:8080/"
        },
        "id": "SmHJQWbpVRWP",
        "outputId": "24530f64-4543-4471-ac85-d90e0ac3981d"
      },
      "execution_count": null,
      "outputs": [
        {
          "output_type": "stream",
          "name": "stdout",
          "text": [
            "[1, 4, 9]\n"
          ]
        }
      ]
    },
    {
      "cell_type": "markdown",
      "source": [
        "**filter()**\n",
        "\n",
        "* Selects items from an iterable that meet a condition.\n",
        "\n",
        "* Returns a filter object (iterator).\n",
        "\n",
        "Example:"
      ],
      "metadata": {
        "id": "KSAVdgHLVXVM"
      }
    },
    {
      "cell_type": "code",
      "source": [
        "numbers = [1,2,3,4]\n",
        "even = filter(lambda x: x%2==0, numbers)\n",
        "print(list(even))"
      ],
      "metadata": {
        "colab": {
          "base_uri": "https://localhost:8080/"
        },
        "id": "YB30xg2-VlGE",
        "outputId": "6777e47f-4644-470c-8f59-ce9fbd0a6e7f"
      },
      "execution_count": null,
      "outputs": [
        {
          "output_type": "stream",
          "name": "stdout",
          "text": [
            "[2, 4]\n"
          ]
        }
      ]
    },
    {
      "cell_type": "markdown",
      "source": [
        "**reduce()**\n",
        "\n",
        "* Combines all items of an iterable into a single value using a function.\n",
        "\n",
        "* Requires functools.reduce.\n",
        "\n",
        "Example"
      ],
      "metadata": {
        "id": "-HlA3bt7V9RZ"
      }
    },
    {
      "cell_type": "code",
      "source": [
        "from functools import reduce\n",
        "numbers = [1,2,3,4]\n",
        "total = reduce(lambda x,y: x+y, numbers)\n",
        "print(total)"
      ],
      "metadata": {
        "colab": {
          "base_uri": "https://localhost:8080/"
        },
        "id": "Gf3G_bsDWK_Q",
        "outputId": "90b63c26-c8c0-4968-8cc5-8fb5f7ed2fbc"
      },
      "execution_count": null,
      "outputs": [
        {
          "output_type": "stream",
          "name": "stdout",
          "text": [
            "10\n"
          ]
        }
      ]
    },
    {
      "cell_type": "markdown",
      "source": [
        "---\n",
        "\n",
        "Q11. Using pen & Paper write the internal mechanism for sum operation using  reduce function on this given\n",
        "list:[47,11,42,13];\n",
        "\n",
        "Ans:- ![WhatsApp Image 2025-10-18 at 9.03.08 PM.jpeg](data:image/jpeg;base64,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)"
      ],
      "metadata": {
        "id": "wKxJ17GY9TR_"
      }
    },
    {
      "cell_type": "markdown",
      "source": [
        "\n",
        "---\n",
        "---\n",
        "\n",
        "**End**\n"
      ],
      "metadata": {
        "id": "q9fGHXR390GD"
      }
    },
    {
      "cell_type": "markdown",
      "source": [
        "**Practical Questions:**\n",
        "\n",
        "---\n",
        "---\n",
        "Q1. Write a Python function that takes a list of numbers as input and returns the sum of all even numbers in\n",
        "the list."
      ],
      "metadata": {
        "id": "W4EPc-4_-F72"
      }
    },
    {
      "cell_type": "code",
      "source": [
        "def sum_of_even_numbers(numbers):\n",
        "    total = 0\n",
        "    for num in numbers:\n",
        "        if num % 2 == 0:\n",
        "            total += num\n",
        "    return total\n",
        "\n",
        "nums = [1, 2, 3, 4, 5, 6, 8, 9]\n",
        "result = sum_of_even_numbers(nums)\n",
        "print(\"Sum of even numbers:\", result)"
      ],
      "metadata": {
        "colab": {
          "base_uri": "https://localhost:8080/"
        },
        "id": "znU5Rpr-AM0C",
        "outputId": "37f1efe9-eca1-4e09-f6f4-6de8229ee259"
      },
      "execution_count": null,
      "outputs": [
        {
          "output_type": "stream",
          "name": "stdout",
          "text": [
            "Sum of even numbers: 20\n"
          ]
        }
      ]
    },
    {
      "cell_type": "markdown",
      "source": [
        "---\n",
        "Q2. Create a Python function that accepts a string and returns the reverse of that string."
      ],
      "metadata": {
        "id": "1t4kk-yjATs7"
      }
    },
    {
      "cell_type": "code",
      "source": [
        "\n",
        "def reverse_string(s):\n",
        "    return s[::-1]\n",
        "\n",
        "text = \"Python Programming\"\n",
        "result = reverse_string(text)\n",
        "print(\"Reversed string:\", result)"
      ],
      "metadata": {
        "colab": {
          "base_uri": "https://localhost:8080/"
        },
        "id": "BbKJSE30A5Zm",
        "outputId": "1152165c-73f8-410e-e624-d1ece4c871aa"
      },
      "execution_count": null,
      "outputs": [
        {
          "output_type": "stream",
          "name": "stdout",
          "text": [
            "Reversed string: gnimmargorP nohtyP\n"
          ]
        }
      ]
    },
    {
      "cell_type": "markdown",
      "source": [
        "---\n",
        "\n",
        "Q3. Implement a Python function that takes a list of integers and returns a new list containing the squares of\n",
        "each number."
      ],
      "metadata": {
        "id": "9WGG05prCFfE"
      }
    },
    {
      "cell_type": "code",
      "source": [
        "def square_list(numbers):\n",
        "    squares = []\n",
        "    for n in numbers:\n",
        "        squares.append(n ** 2)\n",
        "    return squares\n",
        "nums = [1, 2, 3, 4, 5]\n",
        "result = square_list(nums)\n",
        "print(\"Squares of numbers:\", result)"
      ],
      "metadata": {
        "colab": {
          "base_uri": "https://localhost:8080/"
        },
        "id": "s_HWy7fFCNOz",
        "outputId": "4c4ae39f-a4e2-490c-f767-0c5734002f62"
      },
      "execution_count": null,
      "outputs": [
        {
          "output_type": "stream",
          "name": "stdout",
          "text": [
            "Squares of numbers: [1, 4, 9, 16, 25]\n"
          ]
        }
      ]
    },
    {
      "cell_type": "markdown",
      "source": [
        "----\n",
        "Q4. Write a Python function that checks if a given number is prime or not from 1 to 200."
      ],
      "metadata": {
        "id": "4Tj3koowCbYy"
      }
    },
    {
      "cell_type": "code",
      "source": [
        "def is_prime(num):\n",
        "    if num <= 1:\n",
        "        return False\n",
        "    for i in range(2, int(num ** 0.5) + 1):\n",
        "        if num % i == 0:\n",
        "            return False\n",
        "    return True\n",
        "\n",
        "# Check numbers from 1 to 200\n",
        "for number in range(1, 201):\n",
        "    if is_prime(number):\n",
        "        print(number)"
      ],
      "metadata": {
        "colab": {
          "base_uri": "https://localhost:8080/"
        },
        "id": "p6VSA_poDPnS",
        "outputId": "54e7358e-bc79-4aa7-bbb4-4c0add9115c1"
      },
      "execution_count": null,
      "outputs": [
        {
          "output_type": "stream",
          "name": "stdout",
          "text": [
            "2\n",
            "3\n",
            "5\n",
            "7\n",
            "11\n",
            "13\n",
            "17\n",
            "19\n",
            "23\n",
            "29\n",
            "31\n",
            "37\n",
            "41\n",
            "43\n",
            "47\n",
            "53\n",
            "59\n",
            "61\n",
            "67\n",
            "71\n",
            "73\n",
            "79\n",
            "83\n",
            "89\n",
            "97\n",
            "101\n",
            "103\n",
            "107\n",
            "109\n",
            "113\n",
            "127\n",
            "131\n",
            "137\n",
            "139\n",
            "149\n",
            "151\n",
            "157\n",
            "163\n",
            "167\n",
            "173\n",
            "179\n",
            "181\n",
            "191\n",
            "193\n",
            "197\n",
            "199\n"
          ]
        }
      ]
    },
    {
      "cell_type": "markdown",
      "source": [
        "---\n",
        "\n",
        "Q5. Create an iterator class in Python that generates the Fibonacci sequence up to a specified number of\n",
        "terms."
      ],
      "metadata": {
        "id": "uz7nSrHTDZ3-"
      }
    },
    {
      "cell_type": "code",
      "source": [
        "class Fibonacci:\n",
        "    def __init__(self, n):\n",
        "        self.n = n\n",
        "        self.i = 0\n",
        "        self.a, self.b = 0, 1\n",
        "\n",
        "    def __iter__(self):\n",
        "        return self\n",
        "\n",
        "    def __next__(self):\n",
        "        if self.i >= self.n:\n",
        "            raise StopIteration\n",
        "        self.i += 1\n",
        "        self.a, self.b = self.b, self.a + self.b\n",
        "        return self.a\n",
        "\n",
        "for num in Fibonacci(10):\n",
        "    print(num)"
      ],
      "metadata": {
        "colab": {
          "base_uri": "https://localhost:8080/"
        },
        "id": "IXvrV96UDvW3",
        "outputId": "a85f917e-6016-422a-9da1-0bd5f0559488"
      },
      "execution_count": null,
      "outputs": [
        {
          "output_type": "stream",
          "name": "stdout",
          "text": [
            "1\n",
            "1\n",
            "2\n",
            "3\n",
            "5\n",
            "8\n",
            "13\n",
            "21\n",
            "34\n",
            "55\n"
          ]
        }
      ]
    },
    {
      "cell_type": "markdown",
      "source": [
        "---\n",
        "Q6. Write a generator function in Python that yields the powers of 2 up to a given exponent."
      ],
      "metadata": {
        "id": "aHldP3h5FGM_"
      }
    },
    {
      "cell_type": "code",
      "source": [
        "def powers_of_2(n):\n",
        "    for i in range(n + 1):\n",
        "        yield 2 ** i\n",
        "\n",
        "for num in powers_of_2(5):\n",
        "    print(num)"
      ],
      "metadata": {
        "colab": {
          "base_uri": "https://localhost:8080/"
        },
        "id": "N_l1MW2iFNiJ",
        "outputId": "9bab6c17-d305-4125-b05e-46613c180cca"
      },
      "execution_count": null,
      "outputs": [
        {
          "output_type": "stream",
          "name": "stdout",
          "text": [
            "1\n",
            "2\n",
            "4\n",
            "8\n",
            "16\n",
            "32\n"
          ]
        }
      ]
    },
    {
      "cell_type": "markdown",
      "source": [
        "---\n",
        "Q7. Implement a generator function that reads a file line by line and yields each line as a string."
      ],
      "metadata": {
        "id": "2N9NKLu6FiUf"
      }
    },
    {
      "cell_type": "code",
      "source": [
        "def read_file_lines(filename):\n",
        "    with open(filename, 'r') as file:\n",
        "        for line in file:\n",
        "            yield line.strip()  # removes extra spaces and newlines\n",
        "\n",
        "# Create a sample file for testing\n",
        "with open('sample.txt', 'w') as f:\n",
        "    f.write(\"Hello\\n\")\n",
        "    f.write(\"This is a test file.\\n\")\n",
        "    f.write(\"Each line will be read separately.\\n\")\n",
        "\n",
        "# Use the generator to read and print each line\n",
        "for line in read_file_lines('sample.txt'):\n",
        "    print(line)"
      ],
      "metadata": {
        "id": "7PPhBxANFz8Y",
        "colab": {
          "base_uri": "https://localhost:8080/"
        },
        "outputId": "7acfb2fd-5e2e-4cd0-9ffc-337150eeeb6d"
      },
      "execution_count": 5,
      "outputs": [
        {
          "output_type": "stream",
          "name": "stdout",
          "text": [
            "Hello\n",
            "This is a test file.\n",
            "Each line will be read separately.\n"
          ]
        }
      ]
    },
    {
      "cell_type": "markdown",
      "source": [
        "---\n",
        "\n",
        "Q8. Use a lambda function in Python to sort a list of tuples based on the second element of each tuple."
      ],
      "metadata": {
        "id": "FOqyfx2-m-UD"
      }
    },
    {
      "cell_type": "code",
      "source": [
        "# List of tuples\n",
        "data = [(1, 5), (3, 1), (2, 8), (4, 2)]\n",
        "\n",
        "# Sort based on the second element\n",
        "sorted_data = sorted(data, key=lambda x: x[1])\n",
        "\n",
        "print(\"Sorted list:\", sorted_data)"
      ],
      "metadata": {
        "colab": {
          "base_uri": "https://localhost:8080/"
        },
        "id": "5Gko8avKnsyE",
        "outputId": "8eb06aa8-db99-4147-da15-b43ad664dab3"
      },
      "execution_count": 6,
      "outputs": [
        {
          "output_type": "stream",
          "name": "stdout",
          "text": [
            "Sorted list: [(3, 1), (4, 2), (1, 5), (2, 8)]\n"
          ]
        }
      ]
    },
    {
      "cell_type": "markdown",
      "source": [
        "---\n",
        "\n",
        "Q9. Write a Python program that uses `map()` to convert a list of temperatures from Celsius to Fahrenheit."
      ],
      "metadata": {
        "id": "Ly85BXCTn5fd"
      }
    },
    {
      "cell_type": "code",
      "source": [
        "# List of temperatures in Celsius\n",
        "celsius = [0, 10, 20, 30, 40]\n",
        "\n",
        "# Convert to Fahrenheit using map() and lambda\n",
        "fahrenheit = list(map(lambda c: (c * 9/5) + 32, celsius))\n",
        "\n",
        "print(\"Temperatures in Fahrenheit:\", fahrenheit)"
      ],
      "metadata": {
        "colab": {
          "base_uri": "https://localhost:8080/"
        },
        "id": "jSVjjd8boDAQ",
        "outputId": "68d7da2f-d44d-4496-f9a0-5c07fa2d3bcc"
      },
      "execution_count": 7,
      "outputs": [
        {
          "output_type": "stream",
          "name": "stdout",
          "text": [
            "Temperatures in Fahrenheit: [32.0, 50.0, 68.0, 86.0, 104.0]\n"
          ]
        }
      ]
    },
    {
      "cell_type": "markdown",
      "source": [
        "---\n",
        "\n",
        "Q10. Create a Python program that uses `filter()` to remove all the vowels from a given string."
      ],
      "metadata": {
        "id": "H5owRRSvoMuO"
      }
    },
    {
      "cell_type": "code",
      "source": [
        "# Given string\n",
        "text = \"Prapti Patil\"\n",
        "\n",
        "# Remove vowels using filter() and lambda\n",
        "no_vowels = ''.join(filter(lambda ch: ch.lower() not in 'aeiou', text))\n",
        "\n",
        "print(\"String without vowels:\", no_vowels)"
      ],
      "metadata": {
        "colab": {
          "base_uri": "https://localhost:8080/"
        },
        "id": "szj8ebdIocoC",
        "outputId": "a7aeaab4-413c-4b89-81cc-a8b0501e1cf6"
      },
      "execution_count": 9,
      "outputs": [
        {
          "output_type": "stream",
          "name": "stdout",
          "text": [
            "String without vowels: Prpt Ptl\n"
          ]
        }
      ]
    },
    {
      "cell_type": "markdown",
      "source": [
        "---\n",
        "\n",
        "Q11 Imagine an accounting routine used in a book shop. It works on a list with sublists, which look like this:\n",
        "\n",
        "    order no.      book titel nd author               quantity     price per item\n",
        "\n",
        "    34587          Learning Python,Mark Lutz             4              40.95\n",
        "    98762          Programming Python,Mark Lutz          5              56.80\n",
        "    77226          Head First Python,Paul Barry          3              32.95\n",
        "    88112          Einfuhrung in Python3,Bernd Klein     3              24.99\n",
        "\n",
        "Write a Python program, which returns a list with 2-tuples. Each tuple consists of the order number and the\n",
        "product of the price per item and the quantity. The product should be increased by 10,- € if the value of the\n",
        "order is smaller than 100,00 €.\n",
        "\n",
        "Write a Python program using lambda and map."
      ],
      "metadata": {
        "id": "8sCI3wfro-l9"
      }
    },
    {
      "cell_type": "code",
      "source": [
        "# List of orders: [Order Number, Book Title & Author, Quantity, Price per Item]\n",
        "orders = [\n",
        "    [34587, \"Learning Python, Mark Lutz\", 4, 40.95],\n",
        "    [98762, \"Programming Python, Mark Lutz\", 5, 56.80],\n",
        "    [77226, \"Head First Python, Paul Barry\", 3, 32.95],\n",
        "    [88112, \"Einfuhrung in Python3, Bernd Klein\", 3, 24.99]\n",
        "]\n",
        "\n",
        "# Use lambda and map to calculate order total\n",
        "# Add 10€ if total < 100€\n",
        "order_totals = list(\n",
        "    map(\n",
        "        lambda x: (x[0], x[2] * x[3] if x[2] * x[3] >= 100 else x[2] * x[3] + 10),\n",
        "        orders\n",
        "    )\n",
        ")\n",
        "\n",
        "# Print the result\n",
        "print(\"Order totals (Order No., Total Price):\")\n",
        "for order in order_totals:\n",
        "    print(order)"
      ],
      "metadata": {
        "colab": {
          "base_uri": "https://localhost:8080/"
        },
        "id": "2ANXyENUwe7Q",
        "outputId": "78a185f3-435f-4f7e-eb21-96b1ddb712f4"
      },
      "execution_count": 15,
      "outputs": [
        {
          "output_type": "stream",
          "name": "stdout",
          "text": [
            "Order totals (Order No., Total Price):\n",
            "(34587, 163.8)\n",
            "(98762, 284.0)\n",
            "(77226, 108.85000000000001)\n",
            "(88112, 84.97)\n"
          ]
        }
      ]
    },
    {
      "cell_type": "markdown",
      "source": [
        "---\n",
        "---\n",
        "**End**"
      ],
      "metadata": {
        "id": "eUTrkd4dy5P6"
      }
    }
  ]
}